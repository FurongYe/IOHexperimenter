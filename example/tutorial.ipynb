{
 "cells": [
  {
   "cell_type": "code",
   "execution_count": 2,
   "id": "07fdf86d",
   "metadata": {},
   "outputs": [],
   "source": [
    "import os\n",
    "from dataclasses import dataclass\n",
    "import logging\n",
    "logging.basicConfig(level=logging.INFO, \n",
    "    format='%(asctime)s %(levelname)s - %(message)s',\n",
    "    datefmt=\"%H:%M:%S\"\n",
    ")\n",
    "\n",
    "import numpy as np\n",
    "%rm -rf my-experiment*\n",
    "%rm -rf ioh_data*"
   ]
  },
  {
   "cell_type": "code",
   "execution_count": 3,
   "id": "41cf4c7e-1813-4414-9e38-e1efc3ad622d",
   "metadata": {},
   "outputs": [
    {
     "name": "stdout",
     "output_type": "stream",
     "text": [
      "Name: ioh\n",
      "Version: 0.3.3\n",
      "Summary: The experimenter for Iterative Optimization Heuristics\n",
      "Home-page: None\n",
      "Author: Jacob de Nobel, Furong Ye, Diederick Vermetten, Hao Wang, Carola Doerr and Thomas Bäck\n",
      "Author-email: iohprofiler@liacs.leidenuniv.nl\n",
      "License: None\n",
      "Location: /home/jacob/code/IOHexperimenter\n",
      "Requires: numpy\n",
      "Required-by: \n",
      "Note: you may need to restart the kernel to use updated packages.\n"
     ]
    }
   ],
   "source": [
    "import ioh\n",
    "%pip show ioh"
   ]
  },
  {
   "cell_type": "markdown",
   "id": "94f8621d",
   "metadata": {},
   "source": [
    "# Problem\n",
    "In ioh, everything revolves around the `problem` class, which exists for both `Real` and `Integer` types for continious and discrete problems resp. These classes are wrappers around an objective function, and can be used to interact with the various other parts of iohexperimenter. \n",
    "\n",
    "We have a number of objective functions already implemented for convenience, which includes the objective functions from the BBOB single objective benchmark by the COCO platform for the continous case and the PBO benchmark functions for the discrete case.\n"
   ]
  },
  {
   "cell_type": "code",
   "execution_count": 4,
   "id": "5cbe3df2",
   "metadata": {
    "tags": []
   },
   "outputs": [
    {
     "data": {
      "text/plain": [
       "{1: 'Sphere',\n",
       " 2: 'Ellipsoid',\n",
       " 3: 'Rastrigin',\n",
       " 4: 'BuecheRastrigin',\n",
       " 5: 'LinearSlope',\n",
       " 6: 'AttractiveSector',\n",
       " 7: 'StepEllipsoid',\n",
       " 8: 'Rosenbrock',\n",
       " 9: 'RosenbrockRotated',\n",
       " 10: 'EllipsoidRotated',\n",
       " 11: 'Discus',\n",
       " 12: 'BentCigar',\n",
       " 13: 'SharpRidge',\n",
       " 14: 'DifferentPowers',\n",
       " 15: 'RastriginRotated',\n",
       " 16: 'Weierstrass',\n",
       " 17: 'Schaffers10',\n",
       " 18: 'Schaffers1000',\n",
       " 19: 'GriewankRosenBrock',\n",
       " 20: 'Schwefel',\n",
       " 21: 'Gallagher101',\n",
       " 22: 'Gallagher21',\n",
       " 23: 'Katsuura',\n",
       " 24: 'LunacekBiRastrigin'}"
      ]
     },
     "execution_count": 4,
     "metadata": {},
     "output_type": "execute_result"
    }
   ],
   "source": [
    "# A list of problems can be accessed via the base classes\n",
    "ioh.problem.Real.problems"
   ]
  },
  {
   "cell_type": "code",
   "execution_count": 5,
   "id": "2e9d10a4",
   "metadata": {
    "tags": []
   },
   "outputs": [
    {
     "data": {
      "text/plain": [
       "<RealProblem 1. Sphere (iid=1 dim=10)>"
      ]
     },
     "execution_count": 5,
     "metadata": {},
     "output_type": "execute_result"
    }
   ],
   "source": [
    "# In order to instantiate a problem instance, we can do the following:\n",
    "problem = ioh.get_problem(\n",
    "    \"Sphere\", \n",
    "    instance=1,\n",
    "    dimension=10,\n",
    "    problem_type=\"Real\"\n",
    ")\n",
    "problem"
   ]
  },
  {
   "cell_type": "code",
   "execution_count": 6,
   "id": "e0c8733f",
   "metadata": {
    "tags": []
   },
   "outputs": [
    {
     "data": {
      "text/plain": [
       "'Sphere'"
      ]
     },
     "execution_count": 6,
     "metadata": {},
     "output_type": "execute_result"
    }
   ],
   "source": [
    "# The problem class includes information about the problem, which can be retrieved via the meta_data accessor\n",
    "problem.meta_data.name"
   ]
  },
  {
   "cell_type": "code",
   "execution_count": 7,
   "id": "f0264ec1",
   "metadata": {
    "tags": []
   },
   "outputs": [
    {
     "data": {
      "text/plain": [
       "<State evaluations: 0 optimum_found: false current_best: <Solution x: {nan, nan, nan, nan, nan, nan, nan, nan, nan, nan} y: nan>>"
      ]
     },
     "execution_count": 7,
     "metadata": {},
     "output_type": "execute_result"
    }
   ],
   "source": [
    "# The current state of the problem, e.g. the number of evaluations, best seen points etc. are stored in the problems state.\n",
    "problem.state"
   ]
  },
  {
   "cell_type": "code",
   "execution_count": 8,
   "id": "50ac1487",
   "metadata": {},
   "outputs": [
    {
     "data": {
      "text/plain": [
       "<BoxConstraint lb: [{-5, -5, -5, -5, -5, -5, -5, -5, -5, -5}] ub: [{5, 5, 5, 5, 5, 5, 5, 5, 5, 5}]>"
      ]
     },
     "execution_count": 8,
     "metadata": {},
     "output_type": "execute_result"
    }
   ],
   "source": [
    "# Every problem as has a simple box-bounds associcated\n",
    "problem.bounds"
   ]
  },
  {
   "cell_type": "code",
   "execution_count": 9,
   "id": "372f25a0",
   "metadata": {},
   "outputs": [
    {
     "data": {
      "text/plain": [
       "<State evaluations: 1 optimum_found: false current_best: <Solution x: {-3.00524507124168, 3.9376814601934047, 1.1233170153846759, 1.7038057367456672, -4.103640188634418, 1.6097893891088644, 0.43541476537949286, -1.4898899565233847, -3.3593049944783617, -4.928526573882604} y: 132.29079108838306>>"
      ]
     },
     "execution_count": 9,
     "metadata": {},
     "output_type": "execute_result"
    }
   ],
   "source": [
    "# We can access the contraint information of the problem\n",
    "x0 = np.random.uniform(problem.bounds.lb, problem.bounds.ub)\n",
    "\n",
    "# Evaluation happens like a 'normal' objective function would\n",
    "problem(x0)\n",
    "\n",
    "# Whenever the problem is evaluated, the state changes\n",
    "problem.state"
   ]
  },
  {
   "cell_type": "code",
   "execution_count": 10,
   "id": "75f26c25",
   "metadata": {},
   "outputs": [],
   "source": [
    "# If we want to perform multiple runs with the same objective function, after every run, the problem has to be reset, \n",
    "# such that the internal state reflects the current run.\n",
    "def run_experiment(problem, algorithm, n_runs=5):\n",
    "    for run in range(n_runs):\n",
    "        \n",
    "        # Run the algorithm on the problem\n",
    "        algorithm(problem)\n",
    "\n",
    "        # print the best found for this run\n",
    "        print(f\"run: {run+1} - best found:{problem.state.current_best.y: .3f}\")\n",
    "\n",
    "        # Reset the problem\n",
    "        problem.reset()"
   ]
  },
  {
   "cell_type": "code",
   "execution_count": 11,
   "id": "16d775ef",
   "metadata": {},
   "outputs": [],
   "source": [
    "@dataclass\n",
    "class RandomSearch:\n",
    "    'Simple random search algorithm'\n",
    "    \n",
    "    n: int\n",
    "    length: float = 0.0\n",
    "        \n",
    "    def __call__(self, problem: ioh.problem.Real) -> None:\n",
    "        'Evaluate the problem n times with a randomly generated solution'\n",
    "        \n",
    "        for _ in range(self.n):\n",
    "            # We can use the problems bounds accessor to get information about the problem bounds\n",
    "            x = np.random.uniform(problem.bounds.lb, problem.bounds.ub)\n",
    "            self.length = np.linalg.norm(x)\n",
    "            \n",
    "            problem(x)  \n",
    "            "
   ]
  },
  {
   "cell_type": "code",
   "execution_count": 12,
   "id": "04699081-e241-493f-8f51-85f14c137df1",
   "metadata": {},
   "outputs": [
    {
     "name": "stdout",
     "output_type": "stream",
     "text": [
      "run: 1 - best found: 126.128\n",
      "run: 2 - best found: 135.295\n",
      "run: 3 - best found: 118.337\n",
      "run: 4 - best found: 154.620\n",
      "run: 5 - best found: 153.171\n"
     ]
    }
   ],
   "source": [
    "# using the random search algorithm, we can then run a simple experiment\n",
    "run_experiment(problem, RandomSearch(10))"
   ]
  },
  {
   "cell_type": "markdown",
   "id": "ff1d41c0",
   "metadata": {},
   "source": [
    "# Adding custom problems\n",
    "As the list of already implemented problems might not contains the objective function you would like to analyze and benchmark, we include an easy to use interface to wrap your benchmark function into an iohexperimenter `problem` object. \n",
    "\n",
    "Currently, only single objective functions are supported, so the only requirement on the function is its signature, which should take a single array parameter, and return a single floating point number $f(\\mathbf{x}) \\mapsto \\mathbb{R}$.\n",
    "\n",
    "In this example we will add the function (Styblinski–Tang):\n",
    "\n",
    "$f(\\mathbf{x}) = \\frac{\\sum_{i=1}^n x_i^4 - 16x_i^2 + 5x_i}{2}$\n",
    "\n",
    "defined on $[-5, 5]$"
   ]
  },
  {
   "cell_type": "code",
   "execution_count": 13,
   "id": "86f32b7a",
   "metadata": {},
   "outputs": [
    {
     "data": {
      "text/plain": [
       "-391.661657037714"
      ]
     },
     "execution_count": 13,
     "metadata": {},
     "output_type": "execute_result"
    }
   ],
   "source": [
    "def styblinski_tang(x: np.ndarray) -> float:\n",
    "    return np.sum(np.power(x, 4) - (16 * np.power(x, 2)) + (5 * x)) / 2\n",
    "\n",
    "\n",
    "styblinski_tang(np.array([-2.903534]*10)) # global minima"
   ]
  },
  {
   "cell_type": "code",
   "execution_count": 14,
   "id": "eb23a7d5",
   "metadata": {},
   "outputs": [],
   "source": [
    "# we can wrap this function in ioh, as this is is a continous function, we use wrap_real_problem:\n",
    "ioh.problem.wrap_real_problem(\n",
    "    styblinski_tang,                                     # Handle to the function\n",
    "    name=\"StyblinskiTang\",                               # Name to be used when instantiating\n",
    "    optimization_type=ioh.OptimizationType.MIN, # Specify that we want to minimize\n",
    "    lb=-5,                                               # The lower bound\n",
    "    ub=5,                                                # The upper bound\n",
    ")"
   ]
  },
  {
   "cell_type": "code",
   "execution_count": 15,
   "id": "f76f8aea",
   "metadata": {},
   "outputs": [
    {
     "data": {
      "text/plain": [
       "<RealProblem 25. StyblinskiTang (iid=1 dim=10)>"
      ]
     },
     "execution_count": 15,
     "metadata": {},
     "output_type": "execute_result"
    }
   ],
   "source": [
    "# We can create an instance of this problem, wrapped in ioh\n",
    "problem = ioh.get_problem(\"StyblinskiTang\", dimension=10)\n",
    "problem"
   ]
  },
  {
   "cell_type": "code",
   "execution_count": 16,
   "id": "bcedf9d9-29f9-4292-a7a7-d16a8bfdae48",
   "metadata": {},
   "outputs": [
    {
     "data": {
      "text/plain": [
       "-391.661657037714"
      ]
     },
     "execution_count": 16,
     "metadata": {},
     "output_type": "execute_result"
    }
   ],
   "source": [
    "problem(np.array([-2.903534]*10))"
   ]
  },
  {
   "cell_type": "markdown",
   "id": "d6ef70d4",
   "metadata": {},
   "source": [
    "## Specifying instances\n",
    "When doing bechmarking of custom problems, it can often be usefull to look at different instances of the same problem, but that perform some transformation the parameter or objective space, to test if an algorithm is invariant to such transformations. \n",
    "\n",
    "Here we add the following transformations to the aforementioned objective function:\n",
    "\n",
    "$T_x(\\mathbf{x}, c) = \\mathbf{x} + c$\n",
    "\n",
    "$T_y(y, c) = y * c$\n",
    "\n",
    "We can do this by providing transformation functions to the `wrap_problem` interface. Note that these take two parameters:\n",
    " 1. The operand they function on, which are the variables for the variables transformation and objective function value for the objective transformation. \n",
    " 2. An integer identifier of the instance id which is currently used. This allows you to specify alternate behavior for different instances.  "
   ]
  },
  {
   "cell_type": "code",
   "execution_count": 17,
   "id": "200870f4",
   "metadata": {},
   "outputs": [],
   "source": [
    "# Variables transformation R^d -> R^d\n",
    "def transform_variables(x: np.ndarray, instance_id:int) -> np.ndarray:\n",
    "    c = (instance_id - 1) * .5\n",
    "    return x + c\n",
    "\n",
    "# Objective transformation R -> R\n",
    "def transform_objectives(y: float, instance_id:int) -> float:\n",
    "    c = instance_id\n",
    "    return y * c\n",
    "\n",
    "# Note that we can overwrite a previously defined problem by calling wrap_real_problem again with the same name\n",
    "ioh.problem.wrap_real_problem(\n",
    "    styblinski_tang,                                     \n",
    "    name=\"StyblinskiTang\",                               \n",
    "    optimization_type=ioh.OptimizationType.MIN, \n",
    "    lb=-5,                                               \n",
    "    ub=5,      \n",
    "    \n",
    "    # Adding the transformation functions\n",
    "    transform_variables=transform_variables,     \n",
    "    transform_objectives=transform_objectives\n",
    ")"
   ]
  },
  {
   "cell_type": "code",
   "execution_count": 18,
   "id": "5b86e87e",
   "metadata": {},
   "outputs": [
    {
     "data": {
      "text/plain": [
       "(<RealProblem 25. StyblinskiTang (iid=1 dim=10)>,\n",
       " <RealProblem 25. StyblinskiTang (iid=2 dim=10)>)"
      ]
     },
     "execution_count": 18,
     "metadata": {},
     "output_type": "execute_result"
    }
   ],
   "source": [
    "# We can now create different instances of the same problem\n",
    "instance1 = ioh.get_problem(\"StyblinskiTang\", instance=1, dimension=10)\n",
    "instance2 = ioh.get_problem(\"StyblinskiTang\", instance=2, dimension=10)\n",
    "instance1, instance2"
   ]
  },
  {
   "cell_type": "code",
   "execution_count": 19,
   "id": "e20b5d6b",
   "metadata": {},
   "outputs": [
    {
     "data": {
      "text/plain": [
       "(-36.814866821210856, -204.6537242981962)"
      ]
     },
     "execution_count": 19,
     "metadata": {},
     "output_type": "execute_result"
    }
   ],
   "source": [
    "# Note that when evaluating with the same point, each instance gives a different (transformed value)\n",
    "instance1(x0), instance2(x0)"
   ]
  },
  {
   "cell_type": "markdown",
   "id": "021fac60",
   "metadata": {},
   "source": [
    "# Logging data\n",
    "The default usage of IOHExperimenter is in generating logs of benchmarking experiments which can be analyzed in IOHAnalyzer. "
   ]
  },
  {
   "cell_type": "code",
   "execution_count": 20,
   "id": "b5d4b73d",
   "metadata": {},
   "outputs": [
    {
     "data": {
      "text/plain": [
       "<Analyzer /home/jacob/code/IOHexperimenter/example/my-experiment>"
      ]
     },
     "execution_count": 20,
     "metadata": {},
     "output_type": "execute_result"
    }
   ],
   "source": [
    "import os\n",
    "\n",
    "logger = ioh.logger.Analyzer(\n",
    "    root=os.getcwd(),                  # Store data in the current working directory\n",
    "    folder_name=\"my-experiment\",       # in a folder named: 'my-experiment'\n",
    "    algorithm_name=\"random-search\",    # meta-data for the algorithm used to generate these results\n",
    "    store_positions=True               # store x-variables in the logged files\n",
    ")\n",
    "\n",
    "# this automatically creates a folder 'my-experiment' in the current working directory\n",
    "# if the folder already exists, it will given an additional number to make the name unique\n",
    "logger"
   ]
  },
  {
   "cell_type": "code",
   "execution_count": 21,
   "id": "e008c25a",
   "metadata": {},
   "outputs": [
    {
     "name": "stdout",
     "output_type": "stream",
     "text": [
      "\u001b[0m\u001b[01;34mCMakeFiles\u001b[0m/          experiment_example.h  problem_example.h\n",
      "CMakeLists.txt       gsemo.cpp             run_submodular_instances.cpp\n",
      "README.md            logger_example.h      suite_example.h\n",
      "add_new_problem.cpp  main.cpp              tutorial.ipynb\n",
      "eafh.cpp             \u001b[01;34mmy-experiment\u001b[0m/\n"
     ]
    }
   ],
   "source": [
    "%ls"
   ]
  },
  {
   "cell_type": "code",
   "execution_count": 22,
   "id": "276c6a7b",
   "metadata": {},
   "outputs": [
    {
     "name": "stdout",
     "output_type": "stream",
     "text": [
      "run: 1 - best found:-62.781\n"
     ]
    }
   ],
   "source": [
    "# In order to log data for a problem, we only have to attach it to a logger\n",
    "problem = ioh.get_problem(\"StyblinskiTang\", instance=1, dimension=2)\n",
    "problem.attach_logger(logger)\n",
    "\n",
    "# We can then run the random search as before, only now all data will be logged to a file\n",
    "run_experiment(problem, RandomSearch(10), n_runs=1)"
   ]
  },
  {
   "cell_type": "code",
   "execution_count": 23,
   "id": "0ce2c6fd",
   "metadata": {},
   "outputs": [],
   "source": [
    "logger.close()"
   ]
  },
  {
   "cell_type": "code",
   "execution_count": 24,
   "id": "4207c311",
   "metadata": {},
   "outputs": [
    {
     "name": "stdout",
     "output_type": "stream",
     "text": [
      "{\n",
      "\t\"version\": \"0.3.3\", \n",
      "\t\"suite\": \"unknown_suite\", \n",
      "\t\"function_id\": 25, \n",
      "\t\"function_name\": \"StyblinskiTang\", \n",
      "\t\"maximization\": false, \n",
      "\t\"algorithm\": {\"name\": \"random-search\", \"info\": \"algorithm_info\"},\n",
      "\t\"attributes\": [\"evaluations\", \"raw_y\"],\n",
      "\t\"scenarios\": [\n",
      "\t\t{\"dimension\": 2,\n",
      "\t\t\"path\": \"data_f25_StyblinskiTang/IOHprofiler_f25_DIM2.dat\",\n",
      "\t\t\"runs\": [\n",
      "\t\t\t{\"instance\": 1, \"evals\": 10, \"best\": {\"evals\": 6, \"y\": -62.780970416619525, \"x\": [-2.7481191615752754, 2.4684405799397533]}}\n",
      "\t\t]}\n",
      "\t]\n",
      "}\n"
     ]
    }
   ],
   "source": [
    "%cat my-experiment/IOHprofiler_f25_StyblinskiTang.json"
   ]
  },
  {
   "cell_type": "code",
   "execution_count": 25,
   "id": "d820be5c",
   "metadata": {},
   "outputs": [
    {
     "name": "stdout",
     "output_type": "stream",
     "text": [
      "evaluations raw_y x0 x1\n",
      "1 -62.3085384524 -1.697436 -2.909544\n",
      "6 -62.7809704166 -2.748119 2.468441\n",
      "10 -11.3065941964 0.728007 -0.939917\n"
     ]
    }
   ],
   "source": [
    "%cat my-experiment/data_f25_StyblinskiTang/IOHprofiler_f25_DIM2.dat"
   ]
  },
  {
   "cell_type": "markdown",
   "id": "7da18cd9",
   "metadata": {},
   "source": [
    "## Triggers \n",
    "The default behavior of the `Analyzer` logger is to log data only when there is an improvement of the objective value. We can change this behaviour, by specifying one or more triggers, which are logical operators, which when one of them evaluates to True, will cause data to be logged.\n",
    "\n",
    "We provide a number of trigger variants which can be use to customize the logging. In the following example, a trigger is defined which evaluates to True, every 3 function evaluations. It is combined with a trigger for improvement, so data will be logged on every 3rd function evaluation, or when there is an observed improvement of the objective value"
   ]
  },
  {
   "cell_type": "code",
   "execution_count": 26,
   "id": "3673e717",
   "metadata": {},
   "outputs": [
    {
     "data": {
      "text/plain": [
       "<Analyzer /home/jacob/code/IOHexperimenter/example/my-experiment-1>"
      ]
     },
     "execution_count": 26,
     "metadata": {},
     "output_type": "execute_result"
    }
   ],
   "source": [
    "triggers = [\n",
    "    ioh.logger.trigger.Each(3),\n",
    "    ioh.logger.trigger.OnImprovement()\n",
    "]\n",
    "\n",
    "logger = ioh.logger.Analyzer(\n",
    "    root=os.getcwd(),                  \n",
    "    folder_name=\"my-experiment\",       \n",
    "    algorithm_name=\"random-search\",    \n",
    "    store_positions=True,\n",
    "    \n",
    "    # Add the triggers to the logger\n",
    "    triggers = triggers\n",
    ")\n",
    "\n",
    "logger"
   ]
  },
  {
   "cell_type": "code",
   "execution_count": 27,
   "id": "f8720851",
   "metadata": {},
   "outputs": [
    {
     "name": "stdout",
     "output_type": "stream",
     "text": [
      "run: 1 - best found:-61.287\n"
     ]
    }
   ],
   "source": [
    "# Rerun the same experiment as before\n",
    "problem = ioh.get_problem(\"StyblinskiTang\", instance=1, dimension=2)\n",
    "problem.attach_logger(logger)\n",
    "run_experiment(problem, RandomSearch(10), n_runs=1)"
   ]
  },
  {
   "cell_type": "code",
   "execution_count": 28,
   "id": "0eb16b3e",
   "metadata": {},
   "outputs": [
    {
     "name": "stdout",
     "output_type": "stream",
     "text": [
      "evaluations raw_y x0 x1\n",
      "1 -25.5404960631 -0.719737 -1.525905\n",
      "2 -33.2194759361 -4.082862 -1.978192\n",
      "3 85.1980583764 4.208977 -4.730113\n",
      "5 -61.2873120868 -2.587149 3.035593\n",
      "6 -29.7107630740 -0.649874 -1.780952\n",
      "9 -60.2564799291 -1.842026 -2.312471\n",
      "10 57.9991264381 4.530844 0.183927\n"
     ]
    }
   ],
   "source": [
    "# We can now see that data is logged either if there is improvement, or on every 3rd evaluation\n",
    "%cat my-experiment-1/data_f25_StyblinskiTang/IOHprofiler_f25_DIM2.dat"
   ]
  },
  {
   "cell_type": "markdown",
   "id": "3ebb4607",
   "metadata": {},
   "source": [
    "## Properties\n",
    "If we want to keep track of any dynamic parameters a given algorithm might have, we can use properties to log them to the output files. \n",
    "\n",
    "In the following example, we will track the length parameters for the RandomSearch algorithm, which is added for illustrative purpoposes, and changes for every function evaluation"
   ]
  },
  {
   "cell_type": "code",
   "execution_count": 29,
   "id": "d3a125d6",
   "metadata": {},
   "outputs": [
    {
     "name": "stdout",
     "output_type": "stream",
     "text": [
      "run: 1 - best found:-37.976\n"
     ]
    }
   ],
   "source": [
    "# RandomSearch has a length parameter, which is dynamic\n",
    "algorithm = RandomSearch(10)\n",
    "\n",
    "# Creating a new logger\n",
    "logger = ioh.logger.Analyzer(\n",
    "    root=os.getcwd(),                  \n",
    "    folder_name=\"my-experiment\",       \n",
    "    algorithm_name=\"random-search\",    \n",
    "    store_positions=True\n",
    ")\n",
    "\n",
    "# Before we attach a problem, we tell the logger to keep track of the length parameter on algorithm\n",
    "logger.watch(algorithm, \"length\")\n",
    "\n",
    "# We can now again run the same experiment \n",
    "problem = ioh.get_problem(\"StyblinskiTang\", instance=1, dimension=2)\n",
    "\n",
    "problem.attach_logger(logger)\n",
    "run_experiment(problem, algorithm, n_runs=1)"
   ]
  },
  {
   "cell_type": "code",
   "execution_count": 38,
   "id": "dc8716c1",
   "metadata": {},
   "outputs": [],
   "source": [
    "logger.close() "
   ]
  },
  {
   "cell_type": "code",
   "execution_count": 31,
   "id": "103e13cb",
   "metadata": {},
   "outputs": [
    {
     "name": "stdout",
     "output_type": "stream",
     "text": [
      "evaluations raw_y length x0 x1\n",
      "1 -37.9757402234 2.5096422773 0.768772 -2.388994\n",
      "10 -8.3519594896 3.6807063542 3.676021 -0.185660\n"
     ]
    }
   ],
   "source": [
    "# Note the additional length parameter being logged \n",
    "%cat my-experiment-2/data_f25_StyblinskiTang/IOHprofiler_f25_DIM2.dat"
   ]
  },
  {
   "cell_type": "markdown",
   "id": "7e2642f5",
   "metadata": {},
   "source": [
    "# Alternate logging behaviour\n",
    "We provide a number of different loggers in addition to the `Analyzer` logger, which include:\n",
    " - `FlatFile` which logs data to a simple csv file\n",
    " - `Store` which keeps all of the stored data in memory\n",
    " - `EAF/EAH` which compute Empirical Attainment Function/Histogram statistics on the fly\n",
    "\n",
    "You can define your own custom logging behavoir by inheriting from the `AbstractLogger` class. The only required part of the interface is that you override the `__call__` operator, which takes a single `ioh.LogInfo` parameter. In this method you should define your desired behavior. "
   ]
  },
  {
   "cell_type": "code",
   "execution_count": 32,
   "id": "bad5d7de",
   "metadata": {},
   "outputs": [
    {
     "name": "stderr",
     "output_type": "stream",
     "text": [
      "01:51:42 INFO - triggered! y: -42.48236735512947\n",
      "01:51:42 INFO - triggered! y: -18.44669950795916\n",
      "01:51:42 INFO - triggered! y: 2.00311342984765\n",
      "01:51:42 INFO - triggered! y: 90.08208841172612\n",
      "01:51:42 INFO - triggered! y: 24.49818702405043\n",
      "01:51:42 INFO - triggered! y: -30.4413351456828\n",
      "01:51:42 INFO - triggered! y: -0.6379516707627677\n",
      "01:51:42 INFO - triggered! y: -5.684436871723673\n",
      "01:51:42 INFO - triggered! y: 96.83328267284668\n",
      "01:51:42 INFO - triggered! y: -46.440671419109655\n"
     ]
    },
    {
     "name": "stdout",
     "output_type": "stream",
     "text": [
      "run: 1 - best found:-46.441\n"
     ]
    }
   ],
   "source": [
    "# Simple logger that logs data using the python logging module whenever it is triggeredd\n",
    "class MyLogger(ioh.logger.AbstractLogger):\n",
    "    def __call__(self, log_info: ioh.LogInfo):\n",
    "        logging.info(msg=f\"triggered! y: {log_info.y}\")\n",
    "\n",
    "\n",
    "# The abstract logger takes two parameters, triggers and properties\n",
    "mylogger = MyLogger(triggers=[ioh.logger.trigger.ALWAYS])\n",
    "\n",
    "problem = ioh.get_problem(\"StyblinskiTang\", instance=1, dimension=2)\n",
    "problem.attach_logger(mylogger)\n",
    "\n",
    "run_experiment(problem, RandomSearch(10), 1)"
   ]
  },
  {
   "cell_type": "markdown",
   "id": "0b163d3e",
   "metadata": {},
   "source": [
    "# Standardized Experimental Setup (Python only)\n",
    "In Python, we provide the `Experiment` class which can be used to easily run a given algorithm over a larger number of problems. "
   ]
  },
  {
   "cell_type": "code",
   "execution_count": 33,
   "id": "84f169dc",
   "metadata": {},
   "outputs": [],
   "source": [
    "experiment = ioh.Experiment(\n",
    "    algorithm = RandomSearch(10), # An algorithm instance\n",
    "    fids = [1, 25],               # the id's of the problems we want to test\n",
    "    iids = [1, 10],               # the instances \n",
    "    dims = [2, 10],               # the dimensions\n",
    "    reps = 3,                     # the number of runs,\n",
    "    zip_output = True       \n",
    ")"
   ]
  },
  {
   "cell_type": "code",
   "execution_count": 34,
   "id": "9d116207",
   "metadata": {},
   "outputs": [
    {
     "data": {
      "text/plain": [
       "<ioh.Experiment at 0x7fdff54060d0>"
      ]
     },
     "execution_count": 34,
     "metadata": {},
     "output_type": "execute_result"
    }
   ],
   "source": [
    "experiment.run()"
   ]
  },
  {
   "cell_type": "code",
   "execution_count": 35,
   "id": "3adf7ee0",
   "metadata": {},
   "outputs": [
    {
     "name": "stdout",
     "output_type": "stream",
     "text": [
      "IOHprofiler_f1_Sphere.json           \u001b[0m\u001b[01;34mdata_f1_Sphere\u001b[0m/\n",
      "IOHprofiler_f25_StyblinskiTang.json  \u001b[01;34mdata_f25_StyblinskiTang\u001b[0m/\n"
     ]
    }
   ],
   "source": [
    "%ls ioh_data"
   ]
  },
  {
   "cell_type": "code",
   "execution_count": 37,
   "id": "541c3f60",
   "metadata": {},
   "outputs": [
    {
     "name": "stdout",
     "output_type": "stream",
     "text": [
      "{\n",
      "    \"version\": \"0.3.3\",\n",
      "    \"suite\": \"unknown_suite\",\n",
      "    \"function_id\": 25,\n",
      "    \"function_name\": \"StyblinskiTang\",\n",
      "    \"maximization\": false,\n",
      "    \"algorithm\": {\n",
      "        \"name\": \"RandomSearch(n=10, length=0.0)\",\n",
      "        \"info\": \"algorithm_info\"\n",
      "    },\n",
      "    \"attributes\": [\n",
      "        \"evaluations\",\n",
      "        \"raw_y\"\n",
      "    ],\n",
      "    \"scenarios\": [\n",
      "        {\n",
      "            \"dimension\": 10,\n",
      "            \"path\": \"data_f25_StyblinskiTang/IOHprofiler_f25_DIM10.dat\",\n",
      "            \"runs\": [\n",
      "                {\n",
      "                    \"instance\": 10,\n",
      "                    \"evals\": 10,\n",
      "                    \"best\": {\n",
      "                        \"evals\": 6,\n",
      "                        \"y\": 956.1600512285518,\n",
      "                        \"x\": [\n",
      "                            -4.115877772687728,\n",
      "                            -4.862972597469572,\n",
      "                            -3.7296284770815524,\n",
      "                            -3.3497968315431947,\n",
      "                            -2.5477172826748617,\n",
      "                            -3.4376672121575416,\n",
      "                            -4.851464056177514,\n",
      "                            2.7937259505892564,\n",
      "                            -2.3797519469282093,\n",
      "                            -0.5525017889052632\n",
      "                        ]\n",
      "                    }\n",
      "                },\n",
      "                {\n",
      "                    \"instance\": 10,\n",
      "                    \"evals\": 10,\n",
      "                    \"best\": {\n",
      "                        \"evals\": 9,\n",
      "                        \"y\": 2760.246663599893,\n",
      "                        \"x\": [\n",
      "                            -3.269490562922044,\n",
      "                            -4.8672684317991255,\n",
      "                            -1.080996831513823,\n",
      "                            -1.595763871070086,\n",
      "                            -1.9399151323973451,\n",
      "                            1.85572106523969,\n",
      "                            -4.38361477972532,\n",
      "                            0.6885727328027933,\n",
      "                            1.032414107729668,\n",
      "                            3.8847066198406672\n",
      "                        ]\n",
      "                    }\n",
      "                },\n",
      "                {\n",
      "                    \"instance\": 10,\n",
      "                    \"evals\": 10,\n",
      "                    \"best\": {\n",
      "                        \"evals\": 5,\n",
      "                        \"y\": 524.4472165338141,\n",
      "                        \"x\": [\n",
      "                            1.6522641408829042,\n",
      "                            0.0753308949711915,\n",
      "                            -1.6847873665501902,\n",
      "                            0.49514053768775845,\n",
      "                            -2.4759836000286786,\n",
      "                            -2.6644462406353298,\n",
      "                            -2.7776122050572227,\n",
      "                            -0.7393599337836836,\n",
      "                            -4.918483322626957,\n",
      "                            -3.1507172361956846\n",
      "                        ]\n",
      "                    }\n",
      "                },\n",
      "                {\n",
      "                    \"instance\": 1,\n",
      "                    \"evals\": 10,\n",
      "                    \"best\": {\n",
      "                        \"evals\": 5,\n",
      "                        \"y\": -225.50549708906794,\n",
      "                        \"x\": [\n",
      "                            0.8656656911572398,\n",
      "                            3.0097457826117395,\n",
      "                            2.8233852555688967,\n",
      "                            -2.134946985217967,\n",
      "                            -4.352680221056437,\n",
      "                            -3.1706957725202125,\n",
      "                            3.004008763981469,\n",
      "                            -2.95299533241119,\n",
      "                            -3.239511459086403,\n",
      "                            -1.5804406641047555\n",
      "                        ]\n",
      "                    }\n",
      "                },\n",
      "                {\n",
      "                    \"instance\": 1,\n",
      "                    \"evals\": 10,\n",
      "                    \"best\": {\n",
      "                        \"evals\": 1,\n",
      "                        \"y\": -159.2867178932345,\n",
      "                        \"x\": [\n",
      "                            -1.7920902926148399,\n",
      "                            -0.07105134578742955,\n",
      "                            3.9182741050006786,\n",
      "                            -0.6679684244571336,\n",
      "                            3.2778637205996386,\n",
      "                            -4.140739503011597,\n",
      "                            -2.4302681395532346,\n",
      "                            -2.0452648401257676,\n",
      "                            -3.988145465400863,\n",
      "                            -3.2573838901757144\n",
      "                        ]\n",
      "                    }\n",
      "                },\n",
      "                {\n",
      "                    \"instance\": 1,\n",
      "                    \"evals\": 10,\n",
      "                    \"best\": {\n",
      "                        \"evals\": 2,\n",
      "                        \"y\": -183.86683398361967,\n",
      "                        \"x\": [\n",
      "                            -3.2449240328681683,\n",
      "                            0.35890522289564775,\n",
      "                            -2.390487412231679,\n",
      "                            1.8534331177719077,\n",
      "                            4.366501652239791,\n",
      "                            -0.49692875982316664,\n",
      "                            -3.135465300829731,\n",
      "                            -3.2881786936248436,\n",
      "                            2.756524934667346,\n",
      "                            -2.170693046579286\n",
      "                        ]\n",
      "                    }\n",
      "                }\n",
      "            ]\n",
      "        },\n",
      "        {\n",
      "            \"dimension\": 2,\n",
      "            \"path\": \"data_f25_StyblinskiTang/IOHprofiler_f25_DIM2.dat\",\n",
      "            \"runs\": [\n",
      "                {\n",
      "                    \"instance\": 1,\n",
      "                    \"evals\": 10,\n",
      "                    \"best\": {\n",
      "                        \"evals\": 2,\n",
      "                        \"y\": -58.0119171889649,\n",
      "                        \"x\": [\n",
      "                            -1.8801843493997064,\n",
      "                            -2.12714418636848\n",
      "                        ]\n",
      "                    }\n",
      "                },\n",
      "                {\n",
      "                    \"instance\": 1,\n",
      "                    \"evals\": 10,\n",
      "                    \"best\": {\n",
      "                        \"evals\": 1,\n",
      "                        \"y\": -62.028180721326336,\n",
      "                        \"x\": [\n",
      "                            -2.5185803470626933,\n",
      "                            -1.7965861207222886\n",
      "                        ]\n",
      "                    }\n",
      "                },\n",
      "                {\n",
      "                    \"instance\": 1,\n",
      "                    \"evals\": 10,\n",
      "                    \"best\": {\n",
      "                        \"evals\": 9,\n",
      "                        \"y\": -57.78781988444241,\n",
      "                        \"x\": [\n",
      "                            2.7348679645039367,\n",
      "                            -3.460109989126985\n",
      "                        ]\n",
      "                    }\n",
      "                },\n",
      "                {\n",
      "                    \"instance\": 10,\n",
      "                    \"evals\": 10,\n",
      "                    \"best\": {\n",
      "                        \"evals\": 4,\n",
      "                        \"y\": -44.02193866497512,\n",
      "                        \"x\": [\n",
      "                            -2.3562919835713925,\n",
      "                            -1.4183972648485712\n",
      "                        ]\n",
      "                    }\n",
      "                },\n",
      "                {\n",
      "                    \"instance\": 10,\n",
      "                    \"evals\": 10,\n",
      "                    \"best\": {\n",
      "                        \"evals\": 10,\n",
      "                        \"y\": -29.719110959336994,\n",
      "                        \"x\": [\n",
      "                            -2.740388702197852,\n",
      "                            -2.837084250609454\n",
      "                        ]\n",
      "                    }\n",
      "                },\n",
      "                {\n",
      "                    \"instance\": 10,\n",
      "                    \"evals\": 10,\n",
      "                    \"best\": {\n",
      "                        \"evals\": 7,\n",
      "                        \"y\": -45.245498467750195,\n",
      "                        \"x\": [\n",
      "                            -2.043113289742328,\n",
      "                            -2.3166282209059244\n",
      "                        ]\n",
      "                    }\n",
      "                }\n",
      "            ]\n",
      "        }\n",
      "    ]\n",
      "}"
     ]
    }
   ],
   "source": [
    "%cat ioh_data/IOHprofiler_f25_StyblinskiTang.json"
   ]
  },
  {
   "cell_type": "code",
   "execution_count": 1,
   "id": "424db49c",
   "metadata": {},
   "outputs": [
    {
     "name": "stdout",
     "output_type": "stream",
     "text": [
      "\u001b[0m\u001b[01;34mCMakeFiles\u001b[0m/           \u001b[01;34mioh_data\u001b[0m/         \u001b[01;34mmy-experiment-2\u001b[0m/\n",
      "CMakeLists.txt        \u001b[01;31mioh_data.zip\u001b[0m      problem_example.h\n",
      "README.md             logger_example.h  run_submodular_instances.cpp\n",
      "add_new_problem.cpp   main.cpp          suite_example.h\n",
      "eafh.cpp              \u001b[01;34mmy-experiment\u001b[0m/    tutorial.ipynb\n",
      "experiment_example.h  \u001b[01;34mmy-experiment-1\u001b[0m/  tutorial.py\n"
     ]
    }
   ],
   "source": [
    "%ls "
   ]
  },
  {
   "cell_type": "code",
   "execution_count": null,
   "id": "675c09cb",
   "metadata": {},
   "outputs": [],
   "source": [
    "# cleanup\n",
    "%rm -rf my-experiment*\n",
    "%rm -rf ioh_data*"
   ]
  }
 ],
 "metadata": {
  "kernelspec": {
   "display_name": "Python 3.8.10 ('venv': venv)",
   "language": "python",
   "name": "python3"
  },
  "language_info": {
   "codemirror_mode": {
    "name": "ipython",
    "version": 3
   },
   "file_extension": ".py",
   "mimetype": "text/x-python",
   "name": "python",
   "nbconvert_exporter": "python",
   "pygments_lexer": "ipython3",
   "version": "3.8.10"
  },
  "vscode": {
   "interpreter": {
    "hash": "4df11b7c6bc988e752c29608807e53948928701720d1ef956f7ac1d1074d71bd"
   }
  }
 },
 "nbformat": 4,
 "nbformat_minor": 5
}
